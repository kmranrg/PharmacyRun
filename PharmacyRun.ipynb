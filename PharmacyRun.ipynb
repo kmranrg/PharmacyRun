{
 "cells": [
  {
   "cell_type": "markdown",
   "id": "a30406c5",
   "metadata": {},
   "source": [
    "<center><img src=\"logo.png\" width=\"100px\" height=\"100px\"></center>"
   ]
  },
  {
   "cell_type": "markdown",
   "id": "f3e83214",
   "metadata": {},
   "source": [
    "<h1><center>Data Structures and Algorithms Design</center></h1>"
   ]
  },
  {
   "cell_type": "markdown",
   "id": "4899d80f",
   "metadata": {},
   "source": [
    "<h2 style=\"color:blue\"><center>Assignment 02 - PS4 - Pharmacy Run</center></h2>"
   ]
  },
  {
   "cell_type": "markdown",
   "id": "b3ba18f9",
   "metadata": {},
   "source": [
    "<div>\n",
    "    <div style=\"text-align:right\"><strong><i>Submitted By: Group 308</i></strong></div>\n",
    "</div>"
   ]
  },
  {
   "cell_type": "markdown",
   "id": "f1f34791",
   "metadata": {},
   "source": [
    "<h3>Problem Statement</h3>"
   ]
  },
  {
   "cell_type": "markdown",
   "id": "e9715bee",
   "metadata": {},
   "source": [
    "<p>\n",
    "In light of the current pandemic, Harsh has been working from home and is taking extra precaution to make sure he stays safe. However, he has to make an emergency run to the pharmacy as his son hurt himself while playing. There are a couple of pharmacies near his house and he has to decide which one to go to. Every road in his neighbourhood has a couple of containment zones. If there are two pharmacies located at specific junctions in his locality, you have to help Harsh identify which is the safer option such that he crosses the least number of containment zones to reach the pharmacy. A map of his locality and the containment zones on each road is given below.\n",
    "</p>"
   ]
  },
  {
   "cell_type": "markdown",
   "id": "cb0d0a09",
   "metadata": {},
   "source": [
    "<center><img src=\"01.png\"></center>"
   ]
  },
  {
   "cell_type": "markdown",
   "id": "3b916965",
   "metadata": {},
   "source": [
    "<h3>Requirements</h3>"
   ]
  },
  {
   "cell_type": "markdown",
   "id": "d56a6f48",
   "metadata": {},
   "source": [
    "<p><b>\n",
    "1. Formulate an efficient algorithm to help Harsh identify which pharmacy is safer.\n",
    "</b></p>"
   ]
  },
  {
   "cell_type": "markdown",
   "id": "3b978b69",
   "metadata": {},
   "source": [
    "<p style=\"color:blue\">\n",
    "Algorithm\n",
    "</p>"
   ]
  },
  {
   "cell_type": "markdown",
   "id": "9d1f1584",
   "metadata": {},
   "source": [
    "<i>We are making use of Dijkstra's Algorithm for finding out Pharmacy with minimum containment zones</i>\n",
    "\n",
    "<p>\n",
    "    \n",
    "STEP 01:\n",
    "    \n",
    "    + Mark all the Pharmacies as temporary\n",
    "    + Assign all Pharmacies to have infinite containment zones except the Harsh's house (as Harsh's house is source)\n",
    "    \n",
    "STEP 02:\n",
    "    \n",
    "    + Calculate the total no of containment zones for all the adjacent Pharmacies\n",
    "    + Choose any temporary Pharmacy (u) having the minimum no of containment zone(s)\n",
    "    + Mark that Pharmacy (u) as permanent\n",
    "\n",
    "STEP 03:\n",
    "    \n",
    "    + If no temporary Pharmacies left then STOP\n",
    "    + Otherwise, Go to Step 02\n",
    "    \n",
    "STEP 04:\n",
    "    \n",
    "    + Finally find out the desired Pharmacy having the minimum containment zones.\n",
    "    \n",
    "</p>"
   ]
  },
  {
   "cell_type": "markdown",
   "id": "d8e1ed9f",
   "metadata": {},
   "source": [
    "<p><center style=\"color:blue\">Pseudocode</center></p>"
   ]
  },
  {
   "cell_type": "markdown",
   "id": "45349628",
   "metadata": {},
   "source": [
    "+ G denotes given Graph\n",
    "+ V denotes each Vertex\n",
    "+ E denotes each Edge\n",
    "+ Q denotes a priority queue of all nodes in the graph\n",
    "+ S denotes a set to indicate which nodes have been visited by the algorithm"
   ]
  },
  {
   "cell_type": "markdown",
   "id": "ae4df1f2",
   "metadata": {},
   "source": [
    "<img src=\"02.png\" width=600px height=600px>"
   ]
  },
  {
   "cell_type": "markdown",
   "id": "d5099e02",
   "metadata": {},
   "source": [
    "<p><b>\n",
    "2. Provide a description about the design strategy used.\n",
    "</b></p>"
   ]
  },
  {
   "cell_type": "markdown",
   "id": "ba985753",
   "metadata": {},
   "source": [
    "<p style=\"color:blue\">Description</p>"
   ]
  },
  {
   "cell_type": "markdown",
   "id": "896073f8",
   "metadata": {},
   "source": [
    "<p>\n",
    "For finding out the Pharmacy having the minimum containment zones, we're making use of Dijkstra's Single Source - Shortest Path Algorithm.\n",
    "\n",
    "First of all, we will consider all the Pharmacies as the node and all the containment zones as the distances. We are making the Harsh's house as the source node.\n",
    "    \n",
    "Now our task is to find out immediate adjacent node (Pharmacy) having the minimum distance (minimum containment zones). We will continue this process untill we reach to the desired Pharmacies that user has provided in the input file.\n",
    "    \n",
    "Finally we will compare which Pharmacy took minimum containment zones while travelling.\n",
    "</p>"
   ]
  },
  {
   "cell_type": "markdown",
   "id": "b8cc5e0a",
   "metadata": {},
   "source": [
    "<p><b>\n",
    "3. Analyse the time complexity of the algorithm and show that it is an “efficient” one.\n",
    "</b></p>"
   ]
  },
  {
   "cell_type": "markdown",
   "id": "ed504df1",
   "metadata": {},
   "source": [
    "<p style=\"color:blue\">Analysis</p>"
   ]
  },
  {
   "cell_type": "markdown",
   "id": "b5705877",
   "metadata": {},
   "source": [
    "<p>\n",
    "Let the given Graph (G) = (V,E) is represented as adjacency matrix. Here cz[u,v] denotes the no containment zones lying on the way from V to E, where V and E are vertices and edges respectively.\n",
    "    \n",
    "Also, the priority queue Q is represented as an unordered list.\n",
    "    \n",
    "Let |E| and |V| be the number of edges and vertices in the graph repectively. Then the time complexity is as follows:-\n",
    "    \n",
    "(i) Adding all the vertices to Q takes O(|V|) times.\n",
    "    \n",
    "(ii) Removing the node with minimal dist takes O(|V|) time, and we only need 0(1) to recalculate dist[u] and update Q. Since we use an adjacency matrix here, we'll need to loop for |V| vertices to update the dist array.\n",
    "\n",
    "(iii) The time taken for each iteration of the loop is O(|V|), as one vertix is deleted from Q per loop.\n",
    "\n",
    "(iv) Thus, the total time complexity becomes:\n",
    "    \n",
    "    O(|V|) + O(|V|) x O(|V|) = square[O(|V|)]\n",
    "</p>"
   ]
  },
  {
   "cell_type": "markdown",
   "id": "243cda22",
   "metadata": {},
   "source": [
    "<img src=\"03.png\" width=600px height=600px>"
   ]
  },
  {
   "cell_type": "markdown",
   "id": "d87c8b20",
   "metadata": {},
   "source": [
    "<p> \n",
    "By comparing different approaches in graphical analysis, we found that our algorithm is the most efficient one.\n",
    "</p>"
   ]
  },
  {
   "cell_type": "markdown",
   "id": "fef6a763",
   "metadata": {},
   "source": [
    "<p><b>\n",
    "4. Implement the above problem statement using Python 3.7\n",
    "</b></p>"
   ]
  },
  {
   "cell_type": "code",
   "execution_count": 229,
   "id": "e84a0c7d",
   "metadata": {},
   "outputs": [],
   "source": [
    "import re"
   ]
  },
  {
   "cell_type": "code",
   "execution_count": 230,
   "id": "d673723b",
   "metadata": {},
   "outputs": [],
   "source": [
    "'''\n",
    "find_pharmacy(): will find all the possible available Pharmacies with the minimum containment zones\n",
    "                 with respect to the Harsh's House (which is a source node)\n",
    "                 \n",
    "                 This function takes 3 parameters:\n",
    "                     (i) nodes - means total no of Pharmacies\n",
    "                     (ii) edges - consists of no of containment zones lying between 2 Pharmacies\n",
    "                     (iii) source_index - Harsh's House\n",
    "''' \n",
    "\n",
    "def find_pharmacy(nodes, edges, source_index = 1):\n",
    "    \n",
    "    # marking all Pharmacies having infinite containment zones initially\n",
    "    path_lengths = {v: float('inf') for v in nodes}\n",
    "    path_trace = {v: 'a' for v in nodes}\n",
    "    \n",
    "    # marking Harsh's house having 0 containment zone as it's the source node\n",
    "    path_lengths[source_index] = 0\n",
    "    \n",
    "    # storing all the Pharmacy and containment zone details in 2D dictionary format\n",
    "    adjacent_nodes = {v: {} for v in nodes}\n",
    "    for (u,v), c_uv in edges.items():\n",
    "        adjacent_nodes[u][v] = c_uv\n",
    "        adjacent_nodes[v][u] = c_uv\n",
    "    \n",
    "    # calculating actual containment zones lying between each pair of Pharmacies\n",
    "    temporary_nodes = [v for v in nodes]\n",
    "    while len(temporary_nodes) > 0:\n",
    "        upper_bounds = {v: path_lengths[v] for v in temporary_nodes}\n",
    "        \n",
    "        # finding a Pharmacy having the minimum containment zones and then removing that node from temporary nodes\n",
    "        u = min(upper_bounds, key=upper_bounds.get)\n",
    "        temporary_nodes.remove(u)\n",
    "        \n",
    "        # updating the containment zone no if we found another path having minimum containment zone value\n",
    "        for v, c_uv in adjacent_nodes[u].items():\n",
    "            if path_lengths[v] > (path_lengths[u] + c_uv):\n",
    "                path_trace[v] = path_trace[u] + \" \" + chr(v+96)\n",
    "            path_lengths[v] = min(path_lengths[v], path_lengths[u] + c_uv)\n",
    "    \n",
    "    # finally returning details of all Pharmacies along with their minimum containment zones\n",
    "    return path_lengths, path_trace"
   ]
  },
  {
   "cell_type": "code",
   "execution_count": 231,
   "id": "632ed7fe",
   "metadata": {},
   "outputs": [],
   "source": [
    "input_file = open(\"inputPS4.txt\",\"r\")\n",
    "src = input_file.read()\n",
    "\n",
    "# Data Extraction from Input File\n",
    "pattern01 = \"([a-z])\\s/\\s([a-z])\\s/\\s(\\d+)\"\n",
    "pattern02 = \"\\S:\\s([a-z])\"\n",
    "details01 = re.findall(pattern01, src)\n",
    "details02 = re.findall(pattern02, src)\n",
    "input_file.close()"
   ]
  },
  {
   "cell_type": "code",
   "execution_count": 232,
   "id": "5ecb655e",
   "metadata": {},
   "outputs": [],
   "source": [
    "# storing the edges and nodes details from the input file\n",
    "edges = {}\n",
    "nodes = []\n",
    "for x,y,z in details01:\n",
    "    edges[(ord(x)-96,ord(y)-96)] = float(z)\n",
    "    if ord(x)-96 not in nodes:\n",
    "        nodes.append(ord(x)-96)\n",
    "    if ord(y)-96 not in nodes:\n",
    "        nodes.append(ord(y)-96)\n",
    "        \n",
    "# storing harsh house, pharmacy 1 and pharmacy 2 details\n",
    "harsh_house = ord(details02[0])-96\n",
    "pharmacy01 = ord(details02[1])-96\n",
    "pharmacy02 = ord(details02[2])-96"
   ]
  },
  {
   "cell_type": "code",
   "execution_count": 233,
   "id": "cb1afd03",
   "metadata": {},
   "outputs": [],
   "source": [
    "# executing the algorithm\n",
    "containment_zone, trace = find_pharmacy(nodes, edges, harsh_house)\n",
    "final_containment_zone = {}\n",
    "final_trace = {}\n",
    "for k,v in containment_zone.items():\n",
    "    final_containment_zone[chr(k+96)] = v\n",
    "for k,v in trace.items():\n",
    "    final_trace[chr(k+96)] = v"
   ]
  },
  {
   "cell_type": "code",
   "execution_count": 228,
   "id": "c6440014",
   "metadata": {},
   "outputs": [],
   "source": [
    "# generating the output file\n",
    "output_file = open(\"outputPS4.txt\",\"w\")\n",
    "\n",
    "if(final_containment_zone[chr(pharmacy01+96)] < final_containment_zone[chr(pharmacy02+96)]):\n",
    "    safer_pharmacy = chr(pharmacy01+96)\n",
    "    safer_pharmacy_no = \"Pharmacy 1\"\n",
    "else:\n",
    "    safer_pharmacy = chr(pharmacy02+96)\n",
    "    safer_pharmacy_no = \"Pharmacy 2\"\n",
    "path_to_follow = final_trace[safer_pharmacy]\n",
    "total_containment_zones = str(int(final_containment_zone[safer_pharmacy]))\n",
    "\n",
    "final_result = \"Safer Pharmacy is: \" + safer_pharmacy_no + \"\\n\" + \"Path to follow: \" + path_to_follow + \"\\n\" + \"Containment zones on this path: \" + total_containment_zones\n",
    "\n",
    "output_file.write(final_result)\n",
    "output_file.close()"
   ]
  },
  {
   "cell_type": "markdown",
   "id": "eacb1cd1",
   "metadata": {},
   "source": [
    "<h4 style=\"color:blue\"><center>Thank You!!</center></h4>"
   ]
  },
  {
   "cell_type": "code",
   "execution_count": null,
   "id": "f56a35a7",
   "metadata": {},
   "outputs": [],
   "source": []
  }
 ],
 "metadata": {
  "kernelspec": {
   "display_name": "Python 3",
   "language": "python",
   "name": "python3"
  },
  "language_info": {
   "codemirror_mode": {
    "name": "ipython",
    "version": 3
   },
   "file_extension": ".py",
   "mimetype": "text/x-python",
   "name": "python",
   "nbconvert_exporter": "python",
   "pygments_lexer": "ipython3",
   "version": "3.8.8"
  }
 },
 "nbformat": 4,
 "nbformat_minor": 5
}
